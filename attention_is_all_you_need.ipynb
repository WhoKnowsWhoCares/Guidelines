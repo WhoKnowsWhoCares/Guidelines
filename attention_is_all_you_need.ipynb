{
 "cells": [
  {
   "cell_type": "code",
   "execution_count": null,
   "metadata": {},
   "outputs": [],
   "source": [
    "import numpy as np\n",
    "# import torch\n",
    "# import torch.nn as nn\n",
    "# import torch.nn.functional as F\n",
    "# import math, copy, time\n",
    "# from torch.autograd import Variable\n",
    "# import matplotlib.pyplot as plt\n",
    "# import seaborn\n",
    "# seaborn.set_context(context=\"talk\")\n",
    "# %matplotlib inline"
   ]
  }
 ],
 "metadata": {
  "language_info": {
   "name": "python"
  },
  "orig_nbformat": 4
 },
 "nbformat": 4,
 "nbformat_minor": 2
}
