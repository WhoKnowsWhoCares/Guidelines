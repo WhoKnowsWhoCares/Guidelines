{
 "cells": [
  {
   "cell_type": "markdown",
   "metadata": {},
   "source": [
    "Примеры из:\n",
    "https://habr.com/ru/post/331382/ "
   ]
  },
  {
   "cell_type": "code",
   "execution_count": 2,
   "metadata": {},
   "outputs": [
    {
     "name": "stderr",
     "output_type": "stream",
     "text": [
      "Using TensorFlow backend.\n"
     ]
    },
    {
     "name": "stdout",
     "output_type": "stream",
     "text": [
      "Downloading data from https://s3.amazonaws.com/img-datasets/mnist.npz\n",
      "11493376/11490434 [==============================] - 6s 0us/step\n"
     ]
    }
   ],
   "source": [
    "from keras.datasets import mnist\n",
    "import numpy as np\n",
    "\n",
    "(x_train, y_train), (x_test, y_test) = mnist.load_data()\n",
    "\n",
    "x_train = x_train.astype('float32') / 255.\n",
    "x_test  = x_test .astype('float32') / 255.\n",
    "x_train = np.reshape(x_train, (len(x_train), 28, 28, 1))\n",
    "x_test  = np.reshape(x_test,  (len(x_test),  28, 28, 1))"
   ]
  },
  {
   "cell_type": "markdown",
   "metadata": {},
   "source": [
    "### Обычный Автоэнкодер"
   ]
  },
  {
   "cell_type": "code",
   "execution_count": 3,
   "metadata": {},
   "outputs": [],
   "source": [
    "from keras.layers import Input, Dense, Flatten, Reshape\n",
    "from keras.models import Model\n",
    "\n",
    "def create_dense_ae():\n",
    "    # Размерность кодированного представления\n",
    "    encoding_dim = 49\n",
    "\n",
    "    # Энкодер\n",
    "    # Входной плейсхолдер\n",
    "    input_img = Input(shape=(28, 28, 1)) # 28, 28, 1 - размерности строк, столбцов, фильтров одной картинки, без батч-размерности\n",
    "    # Вспомогательный слой решейпинга\n",
    "    flat_img = Flatten()(input_img)\n",
    "    # Кодированное полносвязным слоем представление\n",
    "    encoded = Dense(encoding_dim, activation='relu')(flat_img)\n",
    "    \n",
    "    # Декодер\n",
    "    # Раскодированное другим полносвязным слоем изображение\n",
    "    input_encoded = Input(shape=(encoding_dim,))\n",
    "    flat_decoded = Dense(28*28, activation='sigmoid')(input_encoded)\n",
    "    decoded = Reshape((28, 28, 1))(flat_decoded)\n",
    "\n",
    "    # Модели, в конструктор первым аргументом передаются входные слои, а вторым выходные слои\n",
    "    # Другие модели можно так же использовать как и слои\n",
    "    encoder = Model(input_img, encoded, name=\"encoder\")\n",
    "    decoder = Model(input_encoded, decoded, name=\"decoder\")\n",
    "    autoencoder = Model(input_img, decoder(encoder(input_img)), name=\"autoencoder\")\n",
    "    return encoder, decoder, autoencoder\n",
    "\n",
    "encoder, decoder, autoencoder = create_dense_ae()\n",
    "autoencoder.compile(optimizer='adam', loss='binary_crossentropy')\n",
    "\n",
    "autoencoder.summary()"
   ]
  },
  {
   "cell_type": "code",
   "execution_count": 6,
   "metadata": {},
   "outputs": [
    {
     "name": "stdout",
     "output_type": "stream",
     "text": [
      "Train on 60000 samples, validate on 10000 samples\n",
      "Epoch 1/50\n",
      "60000/60000 [==============================] - 5s 77us/step - loss: 0.2584 - val_loss: 0.1766\n",
      "Epoch 2/50\n",
      "60000/60000 [==============================] - 3s 58us/step - loss: 0.1565 - val_loss: 0.1386\n",
      "Epoch 3/50\n",
      "60000/60000 [==============================] - 4s 62us/step - loss: 0.1293 - val_loss: 0.1190\n",
      "Epoch 4/50\n",
      "60000/60000 [==============================] - 4s 64us/step - loss: 0.1142 - val_loss: 0.1072\n",
      "Epoch 5/50\n",
      "60000/60000 [==============================] - 3s 58us/step - loss: 0.1041 - val_loss: 0.0989\n",
      "Epoch 6/50\n",
      "60000/60000 [==============================] - 3s 56us/step - loss: 0.0969 - val_loss: 0.0930\n",
      "Epoch 7/50\n",
      "60000/60000 [==============================] - 3s 57us/step - loss: 0.0918 - val_loss: 0.0887\n",
      "Epoch 8/50\n",
      "60000/60000 [==============================] - 3s 56us/step - loss: 0.0880 - val_loss: 0.0856\n",
      "Epoch 9/50\n",
      "60000/60000 [==============================] - 4s 62us/step - loss: 0.0853 - val_loss: 0.0834\n",
      "Epoch 10/50\n",
      "60000/60000 [==============================] - 4s 62us/step - loss: 0.0835 - val_loss: 0.0818\n",
      "Epoch 11/50\n",
      "60000/60000 [==============================] - 4s 61us/step - loss: 0.0822 - val_loss: 0.0809\n",
      "Epoch 12/50\n",
      "60000/60000 [==============================] - 4s 62us/step - loss: 0.0814 - val_loss: 0.0802\n",
      "Epoch 13/50\n",
      "60000/60000 [==============================] - 4s 64us/step - loss: 0.0809 - val_loss: 0.0798\n",
      "Epoch 14/50\n",
      "60000/60000 [==============================] - 3s 56us/step - loss: 0.0805 - val_loss: 0.0795\n",
      "Epoch 15/50\n",
      "60000/60000 [==============================] - 4s 71us/step - loss: 0.0802 - val_loss: 0.0793\n",
      "Epoch 16/50\n",
      "60000/60000 [==============================] - 4s 68us/step - loss: 0.0800 - val_loss: 0.0791\n",
      "Epoch 17/50\n",
      "60000/60000 [==============================] - 4s 61us/step - loss: 0.0798 - val_loss: 0.0789\n",
      "Epoch 18/50\n",
      "60000/60000 [==============================] - 4s 61us/step - loss: 0.0797 - val_loss: 0.0787\n",
      "Epoch 19/50\n",
      "60000/60000 [==============================] - 4s 65us/step - loss: 0.0795 - val_loss: 0.0786\n",
      "Epoch 20/50\n",
      "60000/60000 [==============================] - 4s 64us/step - loss: 0.0794 - val_loss: 0.0786\n",
      "Epoch 21/50\n",
      "60000/60000 [==============================] - 3s 58us/step - loss: 0.0793 - val_loss: 0.0785\n",
      "Epoch 22/50\n",
      "60000/60000 [==============================] - 4s 61us/step - loss: 0.0792 - val_loss: 0.0784\n",
      "Epoch 23/50\n",
      "60000/60000 [==============================] - 4s 63us/step - loss: 0.0792 - val_loss: 0.0784\n",
      "Epoch 24/50\n",
      "60000/60000 [==============================] - 4s 63us/step - loss: 0.0791 - val_loss: 0.0783\n",
      "Epoch 25/50\n",
      "60000/60000 [==============================] - 4s 70us/step - loss: 0.0790 - val_loss: 0.0783\n",
      "Epoch 26/50\n",
      "60000/60000 [==============================] - 4s 66us/step - loss: 0.0790 - val_loss: 0.0782\n",
      "Epoch 27/50\n",
      "60000/60000 [==============================] - 4s 68us/step - loss: 0.0789 - val_loss: 0.0782\n",
      "Epoch 28/50\n",
      "60000/60000 [==============================] - 3s 58us/step - loss: 0.0789 - val_loss: 0.0781\n",
      "Epoch 29/50\n",
      "60000/60000 [==============================] - 3s 58us/step - loss: 0.0789 - val_loss: 0.0781\n",
      "Epoch 30/50\n",
      "60000/60000 [==============================] - 3s 58us/step - loss: 0.0788 - val_loss: 0.0781\n",
      "Epoch 31/50\n",
      "60000/60000 [==============================] - 3s 57us/step - loss: 0.0788 - val_loss: 0.0780\n",
      "Epoch 32/50\n",
      "60000/60000 [==============================] - 4s 62us/step - loss: 0.0788 - val_loss: 0.0780\n",
      "Epoch 33/50\n",
      "60000/60000 [==============================] - 4s 61us/step - loss: 0.0787 - val_loss: 0.0780\n",
      "Epoch 34/50\n",
      "60000/60000 [==============================] - 3s 56us/step - loss: 0.0787 - val_loss: 0.0780\n",
      "Epoch 35/50\n",
      "60000/60000 [==============================] - 3s 56us/step - loss: 0.0787 - val_loss: 0.0779\n",
      "Epoch 36/50\n",
      "60000/60000 [==============================] - 3s 55us/step - loss: 0.0787 - val_loss: 0.0780\n",
      "Epoch 37/50\n",
      "60000/60000 [==============================] - 3s 55us/step - loss: 0.0786 - val_loss: 0.0780\n",
      "Epoch 38/50\n",
      "60000/60000 [==============================] - 3s 56us/step - loss: 0.0786 - val_loss: 0.0779\n",
      "Epoch 39/50\n",
      "60000/60000 [==============================] - 3s 56us/step - loss: 0.0786 - val_loss: 0.0779\n",
      "Epoch 40/50\n",
      "60000/60000 [==============================] - 3s 56us/step - loss: 0.0786 - val_loss: 0.0779\n",
      "Epoch 41/50\n",
      "60000/60000 [==============================] - 3s 56us/step - loss: 0.0786 - val_loss: 0.0779\n",
      "Epoch 42/50\n",
      "60000/60000 [==============================] - 4s 59us/step - loss: 0.0785 - val_loss: 0.0778\n",
      "Epoch 43/50\n",
      "60000/60000 [==============================] - 3s 57us/step - loss: 0.0785 - val_loss: 0.0778\n",
      "Epoch 44/50\n",
      "60000/60000 [==============================] - 4s 58us/step - loss: 0.0785 - val_loss: 0.0779\n",
      "Epoch 45/50\n",
      "60000/60000 [==============================] - 3s 57us/step - loss: 0.0785 - val_loss: 0.0778\n",
      "Epoch 46/50\n",
      "60000/60000 [==============================] - 4s 59us/step - loss: 0.0785 - val_loss: 0.0778\n",
      "Epoch 47/50\n",
      "60000/60000 [==============================] - 3s 56us/step - loss: 0.0785 - val_loss: 0.0779\n",
      "Epoch 48/50\n",
      "60000/60000 [==============================] - 3s 57us/step - loss: 0.0785 - val_loss: 0.0778\n",
      "Epoch 49/50\n",
      "60000/60000 [==============================] - 4s 61us/step - loss: 0.0784 - val_loss: 0.0778\n",
      "Epoch 50/50\n",
      "60000/60000 [==============================] - 4s 61us/step - loss: 0.0784 - val_loss: 0.0778\n"
     ]
    },
    {
     "data": {
      "text/plain": [
       "<keras.callbacks.History at 0x155c9eaaa58>"
      ]
     },
     "execution_count": 6,
     "metadata": {},
     "output_type": "execute_result"
    }
   ],
   "source": [
    "autoencoder.fit(x_train, x_train,\n",
    "                epochs=10, # изменить на 50\n",
    "                batch_size=256,\n",
    "                shuffle=True,\n",
    "                validation_data=(x_test, x_test))"
   ]
  },
  {
   "cell_type": "code",
   "execution_count": 7,
   "metadata": {},
   "outputs": [],
   "source": [
    "%matplotlib inline\n",
    "import seaborn as sns\n",
    "import matplotlib.pyplot as plt\n",
    "\n",
    "def plot_digits(*args):\n",
    "    args = [x.squeeze() for x in args]\n",
    "    n = min([x.shape[0] for x in args])\n",
    "    \n",
    "    plt.figure(figsize=(2*n, 2*len(args)))\n",
    "    for j in range(n):\n",
    "        for i in range(len(args)):\n",
    "            ax = plt.subplot(len(args), n, i*n + j + 1)\n",
    "            plt.imshow(args[i][j])\n",
    "            plt.gray()\n",
    "            ax.get_xaxis().set_visible(False)\n",
    "            ax.get_yaxis().set_visible(False)\n",
    "\n",
    "    plt.show()"
   ]
  },
  {
   "cell_type": "code",
   "execution_count": 8,
   "metadata": {},
   "outputs": [
    {
     "data": {
      "text/plain": [
       "array([ 9.375983 ,  6.5796013,  7.0501165,  6.4367514,  6.381505 ,\n",
       "        3.2192   , 10.730157 ,  5.477375 ,  7.309742 , 11.182494 ,\n",
       "        4.035531 , 10.648399 ,  4.957839 ,  4.098322 ,  7.357723 ,\n",
       "        2.5483952, 10.10886  ,  5.949669 ,  3.2204638,  6.836434 ,\n",
       "        4.4109774,  4.2052555,  3.9008603,  8.171032 ,  8.583001 ,\n",
       "       14.040967 ,  6.9586377,  7.637338 , 12.309094 ,  6.7935457,\n",
       "        7.6328077,  5.5640244,  7.956088 ,  4.686182 ,  9.134479 ,\n",
       "        1.0067271,  5.563733 ,  4.281664 ,  1.9461553,  6.2658477,\n",
       "        5.93234  ,  9.565946 ,  5.3352356,  5.40721  ,  4.4510546,\n",
       "        6.795058 ,  3.8498673,  3.581955 , 14.06466  ], dtype=float32)"
      ]
     },
     "execution_count": 8,
     "metadata": {},
     "output_type": "execute_result"
    }
   ],
   "source": [
    "n = 10\n",
    "\n",
    "imgs = x_test[:n]\n",
    "encoded_imgs = encoder.predict(imgs, batch_size=n)\n",
    "encoded_imgs[0]"
   ]
  },
  {
   "cell_type": "code",
   "execution_count": 9,
   "metadata": {},
   "outputs": [
    {
     "ename": "NameError",
     "evalue": "name 'array' is not defined",
     "output_type": "error",
     "traceback": [
      "\u001b[1;31m---------------------------------------------------------------------------\u001b[0m",
      "\u001b[1;31mNameError\u001b[0m                                 Traceback (most recent call last)",
      "\u001b[1;32m<ipython-input-9-a042ede3d7f5>\u001b[0m in \u001b[0;36m<module>\u001b[1;34m\u001b[0m\n\u001b[1;32m----> 1\u001b[1;33m array([  6.64665604,   7.53528595,   3.81508064,   4.66803837,\n\u001b[0m\u001b[0;32m      2\u001b[0m          \u001b[1;36m1.50886345\u001b[0m\u001b[1;33m,\u001b[0m   \u001b[1;36m5.41063929\u001b[0m\u001b[1;33m,\u001b[0m   \u001b[1;36m9.28293324\u001b[0m\u001b[1;33m,\u001b[0m  \u001b[1;36m10.79530716\u001b[0m\u001b[1;33m,\u001b[0m\u001b[1;33m\u001b[0m\u001b[1;33m\u001b[0m\u001b[0m\n\u001b[0;32m      3\u001b[0m          \u001b[1;36m0.39599913\u001b[0m\u001b[1;33m,\u001b[0m   \u001b[1;36m4.20529413\u001b[0m\u001b[1;33m,\u001b[0m   \u001b[1;36m6.53982353\u001b[0m\u001b[1;33m,\u001b[0m   \u001b[1;36m5.64758158\u001b[0m\u001b[1;33m,\u001b[0m\u001b[1;33m\u001b[0m\u001b[1;33m\u001b[0m\u001b[0m\n\u001b[0;32m      4\u001b[0m          \u001b[1;36m5.25313473\u001b[0m\u001b[1;33m,\u001b[0m   \u001b[1;36m1.37336707\u001b[0m\u001b[1;33m,\u001b[0m   \u001b[1;36m9.37590599\u001b[0m\u001b[1;33m,\u001b[0m   \u001b[1;36m6.00672245\u001b[0m\u001b[1;33m,\u001b[0m\u001b[1;33m\u001b[0m\u001b[1;33m\u001b[0m\u001b[0m\n\u001b[0;32m      5\u001b[0m          \u001b[1;36m4.39552879\u001b[0m\u001b[1;33m,\u001b[0m   \u001b[1;36m5.39900637\u001b[0m\u001b[1;33m,\u001b[0m   \u001b[1;36m4.11449528\u001b[0m\u001b[1;33m,\u001b[0m   \u001b[1;36m7.490417\u001b[0m  \u001b[1;33m,\u001b[0m\u001b[1;33m\u001b[0m\u001b[1;33m\u001b[0m\u001b[0m\n",
      "\u001b[1;31mNameError\u001b[0m: name 'array' is not defined"
     ]
    }
   ],
   "source": [
    "array([  6.64665604,   7.53528595,   3.81508064,   4.66803837,\n",
    "         1.50886345,   5.41063929,   9.28293324,  10.79530716,\n",
    "         0.39599913,   4.20529413,   6.53982353,   5.64758158,\n",
    "         5.25313473,   1.37336707,   9.37590599,   6.00672245,\n",
    "         4.39552879,   5.39900637,   4.11449528,   7.490417  ,\n",
    "        10.89267063,   7.74325705,  13.35806847,   3.59005809,\n",
    "         9.75185394,   2.87570286,   3.64097357,   7.86691713,\n",
    "         5.93383646,   5.52847338,   3.45317888,   1.88125253,\n",
    "         7.471385  ,   7.29820824,  10.02830505,  10.5430584 ,\n",
    "         3.2561543 ,   8.24713707,   2.2687614 ,   6.60069561,\n",
    "         7.58116722,   4.48140812,   6.13670635,   2.9162209 ,\n",
    "         8.05503941,  10.78182602,   4.26916027,   5.17175484,   6.18108797], dtype=float32)"
   ]
  },
  {
   "cell_type": "code",
   "execution_count": 10,
   "metadata": {},
   "outputs": [
    {
     "data": {
      "image/png": "[encoded data removed]",
      "text/plain": [
       "<Figure size 1440x288 with 20 Axes>"
      ]
     },
     "metadata": {
      "needs_background": "light"
     },
     "output_type": "display_data"
    }
   ],
   "source": [
    "decoded_imgs = decoder.predict(encoded_imgs, batch_size=n)\n",
    "\n",
    "plot_digits(imgs, decoded_imgs)"
   ]
  },
  {
   "cell_type": "markdown",
   "metadata": {},
   "source": [
    "### Глубокий Автоэнкодер"
   ]
  },
  {
   "cell_type": "code",
   "execution_count": 12,
   "metadata": {},
   "outputs": [
    {
     "name": "stdout",
     "output_type": "stream",
     "text": [
      "_________________________________________________________________\n",
      "Layer (type)                 Output Shape              Param #   \n",
      "=================================================================\n",
      "input_5 (InputLayer)         (None, 28, 28, 1)         0         \n",
      "_________________________________________________________________\n",
      "encoder (Model)              (None, 49)                134750    \n",
      "_________________________________________________________________\n",
      "decoder (Model)              (None, 28, 28, 1)         135485    \n",
      "=================================================================\n",
      "Total params: 270,235\n",
      "Trainable params: 270,235\n",
      "Non-trainable params: 0\n",
      "_________________________________________________________________\n"
     ]
    }
   ],
   "source": [
    "def create_deep_dense_ae():\n",
    "    # Размерность кодированного представления\n",
    "    encoding_dim = 49\n",
    "\n",
    "    # Энкодер\n",
    "    input_img = Input(shape=(28, 28, 1))\n",
    "    flat_img = Flatten()(input_img)\n",
    "    x = Dense(encoding_dim*3, activation='relu')(flat_img)\n",
    "    x = Dense(encoding_dim*2, activation='relu')(x)\n",
    "    encoded = Dense(encoding_dim, activation='linear')(x)\n",
    "    \n",
    "    # Декодер\n",
    "    input_encoded = Input(shape=(encoding_dim,))\n",
    "    x = Dense(encoding_dim*2, activation='relu')(input_encoded)\n",
    "    x = Dense(encoding_dim*3, activation='relu')(x)\n",
    "    flat_decoded = Dense(28*28, activation='sigmoid')(x)\n",
    "    decoded = Reshape((28, 28, 1))(flat_decoded)\n",
    "    \n",
    "    # Модели\n",
    "    encoder = Model(input_img, encoded, name=\"encoder\")\n",
    "    decoder = Model(input_encoded, decoded, name=\"decoder\")\n",
    "    autoencoder = Model(input_img, decoder(encoder(input_img)), name=\"autoencoder\")\n",
    "    return encoder, decoder, autoencoder\n",
    "\n",
    "d_encoder, d_decoder, d_autoencoder = create_deep_dense_ae()\n",
    "d_autoencoder.compile(optimizer='adam', loss='binary_crossentropy')\n",
    "\n",
    "d_autoencoder.summary()"
   ]
  },
  {
   "cell_type": "code",
   "execution_count": 13,
   "metadata": {},
   "outputs": [
    {
     "name": "stdout",
     "output_type": "stream",
     "text": [
      "Train on 60000 samples, validate on 10000 samples\n",
      "Epoch 1/10\n",
      "60000/60000 [==============================] - 7s 109us/step - loss: 0.2233 - val_loss: 0.1439\n",
      "Epoch 2/10\n",
      "60000/60000 [==============================] - 6s 98us/step - loss: 0.1304 - val_loss: 0.1183\n",
      "Epoch 3/10\n",
      "60000/60000 [==============================] - 6s 100us/step - loss: 0.1142 - val_loss: 0.1079\n",
      "Epoch 4/10\n",
      "60000/60000 [==============================] - 5s 85us/step - loss: 0.1061 - val_loss: 0.1018\n",
      "Epoch 5/10\n",
      "60000/60000 [==============================] - 6s 96us/step - loss: 0.1010 - val_loss: 0.0978\n",
      "Epoch 6/10\n",
      "60000/60000 [==============================] - 7s 110us/step - loss: 0.0978 - val_loss: 0.0953\n",
      "Epoch 7/10\n",
      "60000/60000 [==============================] - 6s 100us/step - loss: 0.0953 - val_loss: 0.0925\n",
      "Epoch 8/10\n",
      "60000/60000 [==============================] - 7s 111us/step - loss: 0.0931 - val_loss: 0.0907\n",
      "Epoch 9/10\n",
      "60000/60000 [==============================] - 6s 104us/step - loss: 0.0912 - val_loss: 0.0892\n",
      "Epoch 10/10\n",
      "60000/60000 [==============================] - 6s 97us/step - loss: 0.0897 - val_loss: 0.0881\n"
     ]
    },
    {
     "data": {
      "text/plain": [
       "<keras.callbacks.History at 0x155cf0eab70>"
      ]
     },
     "execution_count": 13,
     "metadata": {},
     "output_type": "execute_result"
    }
   ],
   "source": [
    "d_autoencoder.fit(x_train, x_train,\n",
    "                  epochs=10, #изменить на 100\n",
    "                  batch_size=256,\n",
    "                  shuffle=True,\n",
    "                  validation_data=(x_test, x_test))"
   ]
  },
  {
   "cell_type": "code",
   "execution_count": 14,
   "metadata": {},
   "outputs": [
    {
     "data": {
      "image/png": "[encoded data removed]",
      "text/plain": [
       "<Figure size 1440x288 with 20 Axes>"
      ]
     },
     "metadata": {
      "needs_background": "light"
     },
     "output_type": "display_data"
    }
   ],
   "source": [
    "n = 10\n",
    "\n",
    "imgs = x_test[:n]\n",
    "encoded_imgs = d_encoder.predict(imgs, batch_size=n)\n",
    "encoded_imgs[0]\n",
    "\n",
    "decoded_imgs = d_decoder.predict(encoded_imgs, batch_size=n)\n",
    "\n",
    "plot_digits(imgs, decoded_imgs)"
   ]
  },
  {
   "cell_type": "markdown",
   "metadata": {},
   "source": [
    "### Сверточный Автоэнкодер"
   ]
  },
  {
   "cell_type": "code",
   "execution_count": 15,
   "metadata": {},
   "outputs": [
    {
     "name": "stdout",
     "output_type": "stream",
     "text": [
      "_________________________________________________________________\n",
      "Layer (type)                 Output Shape              Param #   \n",
      "=================================================================\n",
      "input_7 (InputLayer)         (None, 28, 28, 1)         0         \n",
      "_________________________________________________________________\n",
      "encoder (Model)              (None, 7, 7, 1)           24385     \n",
      "_________________________________________________________________\n",
      "decoder (Model)              (None, 28, 28, 1)         24385     \n",
      "=================================================================\n",
      "Total params: 48,770\n",
      "Trainable params: 48,770\n",
      "Non-trainable params: 0\n",
      "_________________________________________________________________\n"
     ]
    }
   ],
   "source": [
    "from keras.layers import Conv2D, MaxPooling2D, UpSampling2D\n",
    "\n",
    "def create_deep_conv_ae():\n",
    "    input_img = Input(shape=(28, 28, 1))\n",
    "\n",
    "    x = Conv2D(128, (7, 7), activation='relu', padding='same')(input_img)\n",
    "    x = MaxPooling2D((2, 2), padding='same')(x)\n",
    "    x = Conv2D(32, (2, 2), activation='relu', padding='same')(x)\n",
    "    x = MaxPooling2D((2, 2), padding='same')(x)\n",
    "    encoded = Conv2D(1, (7, 7), activation='relu', padding='same')(x)\n",
    "\n",
    "    # На этом моменте представление  (7, 7, 1) т.е. 49-размерное\n",
    "\n",
    "    input_encoded = Input(shape=(7, 7, 1))\n",
    "    x = Conv2D(32, (7, 7), activation='relu', padding='same')(input_encoded)\n",
    "    x = UpSampling2D((2, 2))(x)\n",
    "    x = Conv2D(128, (2, 2), activation='relu', padding='same')(x)\n",
    "    x = UpSampling2D((2, 2))(x)\n",
    "    decoded = Conv2D(1, (7, 7), activation='sigmoid', padding='same')(x)\n",
    "\n",
    "    # Модели\n",
    "    encoder = Model(input_img, encoded, name=\"encoder\")\n",
    "    decoder = Model(input_encoded, decoded, name=\"decoder\")\n",
    "    autoencoder = Model(input_img, decoder(encoder(input_img)), name=\"autoencoder\")\n",
    "    return encoder, decoder, autoencoder\n",
    "\n",
    "c_encoder, c_decoder, c_autoencoder = create_deep_conv_ae()\n",
    "c_autoencoder.compile(optimizer='adam', loss='binary_crossentropy')\n",
    "\n",
    "c_autoencoder.summary()"
   ]
  },
  {
   "cell_type": "code",
   "execution_count": 16,
   "metadata": {},
   "outputs": [
    {
     "name": "stdout",
     "output_type": "stream",
     "text": [
      "Train on 60000 samples, validate on 10000 samples\n",
      "Epoch 1/10\n",
      "60000/60000 [==============================] - 1408s 23ms/step - loss: 0.1809 - val_loss: 0.1042\n",
      "Epoch 2/10\n",
      "60000/60000 [==============================] - 1307s 22ms/step - loss: 0.0965 - val_loss: 0.0887\n",
      "Epoch 3/10\n",
      "60000/60000 [==============================] - 1267s 21ms/step - loss: 0.0877 - val_loss: 0.0837\n",
      "Epoch 4/10\n",
      "15104/60000 [======>.......................] - ETA: 15:31 - loss: 0.0845"
     ]
    },
    {
     "ename": "KeyboardInterrupt",
     "evalue": "",
     "output_type": "error",
     "traceback": [
      "\u001b[1;31m---------------------------------------------------------------------------\u001b[0m",
      "\u001b[1;31mKeyboardInterrupt\u001b[0m                         Traceback (most recent call last)",
      "\u001b[1;32m<ipython-input-16-0e571672bd77>\u001b[0m in \u001b[0;36m<module>\u001b[1;34m\u001b[0m\n\u001b[0;32m      3\u001b[0m                 \u001b[0mbatch_size\u001b[0m\u001b[1;33m=\u001b[0m\u001b[1;36m256\u001b[0m\u001b[1;33m,\u001b[0m\u001b[1;33m\u001b[0m\u001b[1;33m\u001b[0m\u001b[0m\n\u001b[0;32m      4\u001b[0m                 \u001b[0mshuffle\u001b[0m\u001b[1;33m=\u001b[0m\u001b[1;32mTrue\u001b[0m\u001b[1;33m,\u001b[0m\u001b[1;33m\u001b[0m\u001b[1;33m\u001b[0m\u001b[0m\n\u001b[1;32m----> 5\u001b[1;33m                 validation_data=(x_test, x_test))\n\u001b[0m",
      "\u001b[1;32m~\\Documents\\Distr\\anaconda3\\lib\\site-packages\\keras\\engine\\training.py\u001b[0m in \u001b[0;36mfit\u001b[1;34m(self, x, y, batch_size, epochs, verbose, callbacks, validation_split, validation_data, shuffle, class_weight, sample_weight, initial_epoch, steps_per_epoch, validation_steps, **kwargs)\u001b[0m\n\u001b[0;32m   1037\u001b[0m                                         \u001b[0minitial_epoch\u001b[0m\u001b[1;33m=\u001b[0m\u001b[0minitial_epoch\u001b[0m\u001b[1;33m,\u001b[0m\u001b[1;33m\u001b[0m\u001b[1;33m\u001b[0m\u001b[0m\n\u001b[0;32m   1038\u001b[0m                                         \u001b[0msteps_per_epoch\u001b[0m\u001b[1;33m=\u001b[0m\u001b[0msteps_per_epoch\u001b[0m\u001b[1;33m,\u001b[0m\u001b[1;33m\u001b[0m\u001b[1;33m\u001b[0m\u001b[0m\n\u001b[1;32m-> 1039\u001b[1;33m                                         validation_steps=validation_steps)\n\u001b[0m\u001b[0;32m   1040\u001b[0m \u001b[1;33m\u001b[0m\u001b[0m\n\u001b[0;32m   1041\u001b[0m     def evaluate(self, x=None, y=None,\n",
      "\u001b[1;32m~\\Documents\\Distr\\anaconda3\\lib\\site-packages\\keras\\engine\\training_arrays.py\u001b[0m in \u001b[0;36mfit_loop\u001b[1;34m(model, f, ins, out_labels, batch_size, epochs, verbose, callbacks, val_f, val_ins, shuffle, callback_metrics, initial_epoch, steps_per_epoch, validation_steps)\u001b[0m\n\u001b[0;32m    197\u001b[0m                     \u001b[0mins_batch\u001b[0m\u001b[1;33m[\u001b[0m\u001b[0mi\u001b[0m\u001b[1;33m]\u001b[0m \u001b[1;33m=\u001b[0m \u001b[0mins_batch\u001b[0m\u001b[1;33m[\u001b[0m\u001b[0mi\u001b[0m\u001b[1;33m]\u001b[0m\u001b[1;33m.\u001b[0m\u001b[0mtoarray\u001b[0m\u001b[1;33m(\u001b[0m\u001b[1;33m)\u001b[0m\u001b[1;33m\u001b[0m\u001b[1;33m\u001b[0m\u001b[0m\n\u001b[0;32m    198\u001b[0m \u001b[1;33m\u001b[0m\u001b[0m\n\u001b[1;32m--> 199\u001b[1;33m                 \u001b[0mouts\u001b[0m \u001b[1;33m=\u001b[0m \u001b[0mf\u001b[0m\u001b[1;33m(\u001b[0m\u001b[0mins_batch\u001b[0m\u001b[1;33m)\u001b[0m\u001b[1;33m\u001b[0m\u001b[1;33m\u001b[0m\u001b[0m\n\u001b[0m\u001b[0;32m    200\u001b[0m                 \u001b[0mouts\u001b[0m \u001b[1;33m=\u001b[0m \u001b[0mto_list\u001b[0m\u001b[1;33m(\u001b[0m\u001b[0mouts\u001b[0m\u001b[1;33m)\u001b[0m\u001b[1;33m\u001b[0m\u001b[1;33m\u001b[0m\u001b[0m\n\u001b[0;32m    201\u001b[0m                 \u001b[1;32mfor\u001b[0m \u001b[0ml\u001b[0m\u001b[1;33m,\u001b[0m \u001b[0mo\u001b[0m \u001b[1;32min\u001b[0m \u001b[0mzip\u001b[0m\u001b[1;33m(\u001b[0m\u001b[0mout_labels\u001b[0m\u001b[1;33m,\u001b[0m \u001b[0mouts\u001b[0m\u001b[1;33m)\u001b[0m\u001b[1;33m:\u001b[0m\u001b[1;33m\u001b[0m\u001b[1;33m\u001b[0m\u001b[0m\n",
      "\u001b[1;32m~\\Documents\\Distr\\anaconda3\\lib\\site-packages\\keras\\backend\\tensorflow_backend.py\u001b[0m in \u001b[0;36m__call__\u001b[1;34m(self, inputs)\u001b[0m\n\u001b[0;32m   2713\u001b[0m                 \u001b[1;32mreturn\u001b[0m \u001b[0mself\u001b[0m\u001b[1;33m.\u001b[0m\u001b[0m_legacy_call\u001b[0m\u001b[1;33m(\u001b[0m\u001b[0minputs\u001b[0m\u001b[1;33m)\u001b[0m\u001b[1;33m\u001b[0m\u001b[1;33m\u001b[0m\u001b[0m\n\u001b[0;32m   2714\u001b[0m \u001b[1;33m\u001b[0m\u001b[0m\n\u001b[1;32m-> 2715\u001b[1;33m             \u001b[1;32mreturn\u001b[0m \u001b[0mself\u001b[0m\u001b[1;33m.\u001b[0m\u001b[0m_call\u001b[0m\u001b[1;33m(\u001b[0m\u001b[0minputs\u001b[0m\u001b[1;33m)\u001b[0m\u001b[1;33m\u001b[0m\u001b[1;33m\u001b[0m\u001b[0m\n\u001b[0m\u001b[0;32m   2716\u001b[0m         \u001b[1;32melse\u001b[0m\u001b[1;33m:\u001b[0m\u001b[1;33m\u001b[0m\u001b[1;33m\u001b[0m\u001b[0m\n\u001b[0;32m   2717\u001b[0m             \u001b[1;32mif\u001b[0m \u001b[0mpy_any\u001b[0m\u001b[1;33m(\u001b[0m\u001b[0mis_tensor\u001b[0m\u001b[1;33m(\u001b[0m\u001b[0mx\u001b[0m\u001b[1;33m)\u001b[0m \u001b[1;32mfor\u001b[0m \u001b[0mx\u001b[0m \u001b[1;32min\u001b[0m \u001b[0minputs\u001b[0m\u001b[1;33m)\u001b[0m\u001b[1;33m:\u001b[0m\u001b[1;33m\u001b[0m\u001b[1;33m\u001b[0m\u001b[0m\n",
      "\u001b[1;32m~\\Documents\\Distr\\anaconda3\\lib\\site-packages\\keras\\backend\\tensorflow_backend.py\u001b[0m in \u001b[0;36m_call\u001b[1;34m(self, inputs)\u001b[0m\n\u001b[0;32m   2673\u001b[0m             \u001b[0mfetched\u001b[0m \u001b[1;33m=\u001b[0m \u001b[0mself\u001b[0m\u001b[1;33m.\u001b[0m\u001b[0m_callable_fn\u001b[0m\u001b[1;33m(\u001b[0m\u001b[1;33m*\u001b[0m\u001b[0marray_vals\u001b[0m\u001b[1;33m,\u001b[0m \u001b[0mrun_metadata\u001b[0m\u001b[1;33m=\u001b[0m\u001b[0mself\u001b[0m\u001b[1;33m.\u001b[0m\u001b[0mrun_metadata\u001b[0m\u001b[1;33m)\u001b[0m\u001b[1;33m\u001b[0m\u001b[1;33m\u001b[0m\u001b[0m\n\u001b[0;32m   2674\u001b[0m         \u001b[1;32melse\u001b[0m\u001b[1;33m:\u001b[0m\u001b[1;33m\u001b[0m\u001b[1;33m\u001b[0m\u001b[0m\n\u001b[1;32m-> 2675\u001b[1;33m             \u001b[0mfetched\u001b[0m \u001b[1;33m=\u001b[0m \u001b[0mself\u001b[0m\u001b[1;33m.\u001b[0m\u001b[0m_callable_fn\u001b[0m\u001b[1;33m(\u001b[0m\u001b[1;33m*\u001b[0m\u001b[0marray_vals\u001b[0m\u001b[1;33m)\u001b[0m\u001b[1;33m\u001b[0m\u001b[1;33m\u001b[0m\u001b[0m\n\u001b[0m\u001b[0;32m   2676\u001b[0m         \u001b[1;32mreturn\u001b[0m \u001b[0mfetched\u001b[0m\u001b[1;33m[\u001b[0m\u001b[1;33m:\u001b[0m\u001b[0mlen\u001b[0m\u001b[1;33m(\u001b[0m\u001b[0mself\u001b[0m\u001b[1;33m.\u001b[0m\u001b[0moutputs\u001b[0m\u001b[1;33m)\u001b[0m\u001b[1;33m]\u001b[0m\u001b[1;33m\u001b[0m\u001b[1;33m\u001b[0m\u001b[0m\n\u001b[0;32m   2677\u001b[0m \u001b[1;33m\u001b[0m\u001b[0m\n",
      "\u001b[1;32m~\\Documents\\Distr\\anaconda3\\lib\\site-packages\\tensorflow\\python\\client\\session.py\u001b[0m in \u001b[0;36m__call__\u001b[1;34m(self, *args, **kwargs)\u001b[0m\n\u001b[0;32m   1437\u001b[0m           ret = tf_session.TF_SessionRunCallable(\n\u001b[0;32m   1438\u001b[0m               \u001b[0mself\u001b[0m\u001b[1;33m.\u001b[0m\u001b[0m_session\u001b[0m\u001b[1;33m.\u001b[0m\u001b[0m_session\u001b[0m\u001b[1;33m,\u001b[0m \u001b[0mself\u001b[0m\u001b[1;33m.\u001b[0m\u001b[0m_handle\u001b[0m\u001b[1;33m,\u001b[0m \u001b[0margs\u001b[0m\u001b[1;33m,\u001b[0m \u001b[0mstatus\u001b[0m\u001b[1;33m,\u001b[0m\u001b[1;33m\u001b[0m\u001b[1;33m\u001b[0m\u001b[0m\n\u001b[1;32m-> 1439\u001b[1;33m               run_metadata_ptr)\n\u001b[0m\u001b[0;32m   1440\u001b[0m         \u001b[1;32mif\u001b[0m \u001b[0mrun_metadata\u001b[0m\u001b[1;33m:\u001b[0m\u001b[1;33m\u001b[0m\u001b[1;33m\u001b[0m\u001b[0m\n\u001b[0;32m   1441\u001b[0m           \u001b[0mproto_data\u001b[0m \u001b[1;33m=\u001b[0m \u001b[0mtf_session\u001b[0m\u001b[1;33m.\u001b[0m\u001b[0mTF_GetBuffer\u001b[0m\u001b[1;33m(\u001b[0m\u001b[0mrun_metadata_ptr\u001b[0m\u001b[1;33m)\u001b[0m\u001b[1;33m\u001b[0m\u001b[1;33m\u001b[0m\u001b[0m\n",
      "\u001b[1;31mKeyboardInterrupt\u001b[0m: "
     ]
    }
   ],
   "source": [
    "c_autoencoder.fit(x_train, x_train,\n",
    "                epochs=10, # было 64\n",
    "                batch_size=256,\n",
    "                shuffle=True,\n",
    "                validation_data=(x_test, x_test))"
   ]
  },
  {
   "cell_type": "code",
   "execution_count": null,
   "metadata": {},
   "outputs": [],
   "source": [
    "n = 10\n",
    "\n",
    "imgs = x_test[:n]\n",
    "encoded_imgs = c_encoder.predict(imgs, batch_size=n)\n",
    "decoded_imgs = c_decoder.predict(encoded_imgs, batch_size=n)\n",
    "\n",
    "plot_digits(imgs, decoded_imgs)"
   ]
  },
  {
   "cell_type": "markdown",
   "metadata": {},
   "source": [
    "### Denoising Автоэнкодер\n",
    "\n",
    "Автоэнкодеры можно обучить убирать шум из данных: для этого надо на вход подавать зашумленные данные и на выходе сравнивать с данными без шума:\n",
    "\n",
    "L(x, f(g(\\hat x))),\n",
    "\n",
    "где \\hat x — зашумленные данные."
   ]
  },
  {
   "cell_type": "code",
   "execution_count": 17,
   "metadata": {},
   "outputs": [],
   "source": [
    "import keras.backend as K\n",
    "from keras.layers import Lambda\n",
    "\n",
    "batch_size = 16\n",
    "\n",
    "def create_denoising_model(autoencoder):\n",
    "    def add_noise(x):\n",
    "        noise_factor = 0.5\n",
    "        x = x + K.random_normal(x.get_shape(), 0.5, noise_factor)\n",
    "        x = K.clip(x, 0., 1.)\n",
    "        return x\n",
    "\n",
    "    input_img  = Input(batch_shape=(batch_size, 28, 28, 1))\n",
    "    noised_img = Lambda(add_noise)(input_img)\n",
    "\n",
    "    noiser = Model(input_img, noised_img, name=\"noiser\")\n",
    "    denoiser_model = Model(input_img, autoencoder(noiser(input_img)), name=\"denoiser\")\n",
    "    return noiser, denoiser_model\n",
    "\n",
    "\n",
    "noiser, denoiser_model = create_denoising_model(autoencoder)\n",
    "denoiser_model.compile(optimizer='adam', loss='binary_crossentropy')"
   ]
  },
  {
   "cell_type": "code",
   "execution_count": 18,
   "metadata": {},
   "outputs": [
    {
     "name": "stdout",
     "output_type": "stream",
     "text": [
      "Train on 60000 samples, validate on 10000 samples\n",
      "Epoch 1/10\n",
      "60000/60000 [==============================] - 11s 184us/step - loss: 0.1663 - val_loss: 0.1375\n",
      "Epoch 2/10\n",
      "60000/60000 [==============================] - 11s 182us/step - loss: 0.1357 - val_loss: 0.1311\n",
      "Epoch 3/10\n",
      "60000/60000 [==============================] - 11s 186us/step - loss: 0.1325 - val_loss: 0.1304\n",
      "Epoch 4/10\n",
      "60000/60000 [==============================] - 12s 198us/step - loss: 0.1310 - val_loss: 0.1289\n",
      "Epoch 5/10\n",
      "60000/60000 [==============================] - 12s 199us/step - loss: 0.1304 - val_loss: 0.1283\n",
      "Epoch 6/10\n",
      "60000/60000 [==============================] - 12s 198us/step - loss: 0.1298 - val_loss: 0.1273\n",
      "Epoch 7/10\n",
      "60000/60000 [==============================] - 13s 214us/step - loss: 0.1293 - val_loss: 0.1270\n",
      "Epoch 8/10\n",
      "60000/60000 [==============================] - 13s 212us/step - loss: 0.1291 - val_loss: 0.1264\n",
      "Epoch 9/10\n",
      "60000/60000 [==============================] - 12s 201us/step - loss: 0.1289 - val_loss: 0.1278\n",
      "Epoch 10/10\n",
      "60000/60000 [==============================] - 12s 200us/step - loss: 0.1287 - val_loss: 0.1278\n"
     ]
    },
    {
     "data": {
      "text/plain": [
       "<keras.callbacks.History at 0x15580007978>"
      ]
     },
     "execution_count": 18,
     "metadata": {},
     "output_type": "execute_result"
    }
   ],
   "source": [
    "denoiser_model.fit(x_train, x_train,\n",
    "                   epochs=10, #200\n",
    "                   batch_size=batch_size,\n",
    "                   shuffle=True,\n",
    "                   validation_data=(x_test, x_test))"
   ]
  },
  {
   "cell_type": "code",
   "execution_count": 19,
   "metadata": {},
   "outputs": [
    {
     "data": {
      "image/png": "[encoded data removed]",
      "text/plain": [
       "<Figure size 1440x432 with 30 Axes>"
      ]
     },
     "metadata": {
      "needs_background": "light"
     },
     "output_type": "display_data"
    }
   ],
   "source": [
    "n = 10\n",
    "\n",
    "imgs = x_test[:batch_size]\n",
    "noised_imgs = noiser.predict(imgs, batch_size=batch_size)\n",
    "encoded_imgs = encoder.predict(noised_imgs[:n],  batch_size=n)\n",
    "decoded_imgs = decoder.predict(encoded_imgs[:n], batch_size=n)\n",
    "\n",
    "plot_digits(imgs[:n], noised_imgs, decoded_imgs)"
   ]
  },
  {
   "cell_type": "markdown",
   "metadata": {},
   "source": [
    "### Разреженный (Sparse) автоэнкодер\n",
    "\n",
    "Разреженный автоэнкодер — это просто автоэнкодер, у которого в функцию потерь добавлен штраф за величины значений в коде, то есть автоэнкодер стремится минимизировать такую функцию ошибки:\n",
    "\n",
    "L(x, f(g(x))) + \\Omega(h),\n",
    "\n",
    "где h = g(x) — код,\n",
    "\n",
    "\\Omega(h) — обычный регуляризатор (например L1):\n",
    "\n",
    "\\Omega(h) = \\lambda * |h|\n",
    "\n",
    "Разреженный автоэнкодер не обязательно сужается к центру. Его код может иметь и большую размерность, чем входной сигнал. Обучаясь приближать тождественную функцию x = f(g(x)), он учится в коде выделять полезные свойства сигнала. Из-за регуляризатора даже расширяющийся к центру разреженный автоэнкодер не может выучить тождественную функцию напрямую."
   ]
  },
  {
   "cell_type": "code",
   "execution_count": 20,
   "metadata": {},
   "outputs": [],
   "source": [
    "from keras.regularizers import L1L2\n",
    "\n",
    "def create_sparse_ae():\n",
    "    encoding_dim = 16\n",
    "    lambda_l1 = 0.00001\n",
    "    \n",
    "    # Энкодер\n",
    "    input_img = Input(shape=(28, 28, 1))\n",
    "    flat_img = Flatten()(input_img)\n",
    "    x = Dense(encoding_dim*3, activation='relu')(flat_img)\n",
    "    x = Dense(encoding_dim*2, activation='relu')(x)\n",
    "    encoded = Dense(encoding_dim, activation='linear', activity_regularizer=L1L2(lambda_l1))(x)\n",
    "    \n",
    "    # Декодер\n",
    "    input_encoded = Input(shape=(encoding_dim,))\n",
    "    x = Dense(encoding_dim*2, activation='relu')(input_encoded)\n",
    "    x = Dense(encoding_dim*3, activation='relu')(x)\n",
    "    flat_decoded = Dense(28*28, activation='sigmoid')(x)\n",
    "    decoded = Reshape((28, 28, 1))(flat_decoded)\n",
    "    \n",
    "    # Модели\n",
    "    encoder = Model(input_img, encoded, name=\"encoder\")\n",
    "    decoder = Model(input_encoded, decoded, name=\"decoder\")\n",
    "    autoencoder = Model(input_img, decoder(encoder(input_img)), name=\"autoencoder\")\n",
    "    return encoder, decoder, autoencoder\n",
    "\n",
    "s_encoder, s_decoder, s_autoencoder = create_sparse_ae()\n",
    "s_autoencoder.compile(optimizer='adam', loss='binary_crossentropy')"
   ]
  },
  {
   "cell_type": "code",
   "execution_count": 21,
   "metadata": {},
   "outputs": [
    {
     "name": "stdout",
     "output_type": "stream",
     "text": [
      "Train on 60000 samples, validate on 10000 samples\n",
      "Epoch 1/10\n",
      "60000/60000 [==============================] - 5s 84us/step - loss: 0.3263 - val_loss: 0.2469\n",
      "Epoch 2/10\n",
      "60000/60000 [==============================] - 4s 74us/step - loss: 0.2366 - val_loss: 0.2189\n",
      "Epoch 3/10\n",
      "60000/60000 [==============================] - 5s 77us/step - loss: 0.2092 - val_loss: 0.1945\n",
      "Epoch 4/10\n",
      "60000/60000 [==============================] - 5s 76us/step - loss: 0.1828 - val_loss: 0.1712\n",
      "Epoch 5/10\n",
      "60000/60000 [==============================] - 5s 86us/step - loss: 0.1693 - val_loss: 0.1650\n",
      "Epoch 6/10\n",
      "60000/60000 [==============================] - 5s 85us/step - loss: 0.1638 - val_loss: 0.1597\n",
      "Epoch 7/10\n",
      "60000/60000 [==============================] - 5s 87us/step - loss: 0.1587 - val_loss: 0.1546\n",
      "Epoch 8/10\n",
      "60000/60000 [==============================] - 5s 82us/step - loss: 0.1544 - val_loss: 0.1511\n",
      "Epoch 9/10\n",
      "60000/60000 [==============================] - 5s 79us/step - loss: 0.1514 - val_loss: 0.1491\n",
      "Epoch 10/10\n",
      "60000/60000 [==============================] - 5s 88us/step - loss: 0.1494 - val_loss: 0.1476\n"
     ]
    },
    {
     "data": {
      "text/plain": [
       "<keras.callbacks.History at 0x155d24c3320>"
      ]
     },
     "execution_count": 21,
     "metadata": {},
     "output_type": "execute_result"
    }
   ],
   "source": [
    "s_autoencoder.fit(x_train, x_train,\n",
    "                epochs=10, # 400 эпох\n",
    "                batch_size=256,\n",
    "                shuffle=True,\n",
    "                validation_data=(x_test, x_test))"
   ]
  },
  {
   "cell_type": "code",
   "execution_count": 22,
   "metadata": {},
   "outputs": [
    {
     "data": {
      "image/png": "[encoded data removed]",
      "text/plain": [
       "<Figure size 1440x288 with 20 Axes>"
      ]
     },
     "metadata": {
      "needs_background": "light"
     },
     "output_type": "display_data"
    }
   ],
   "source": [
    "\n",
    "n = 10\n",
    "\n",
    "imgs = x_test[:n]\n",
    "encoded_imgs = s_encoder.predict(imgs, batch_size=n)\n",
    "encoded_imgs[1]\n",
    "\n",
    "decoded_imgs = s_decoder.predict(encoded_imgs, batch_size=n)\n",
    "\n",
    "plot_digits(imgs, decoded_imgs)"
   ]
  }
 ],
 "metadata": {
  "celltoolbar": "Raw Cell Format",
  "kernelspec": {
   "display_name": "Python 3",
   "language": "python",
   "name": "python3"
  },
  "language_info": {
   "codemirror_mode": {
    "name": "ipython",
    "version": 3
   },
   "file_extension": ".py",
   "mimetype": "text/x-python",
   "name": "python",
   "nbconvert_exporter": "python",
   "pygments_lexer": "ipython3",
   "version": "3.7.4"
  }
 },
 "nbformat": 4,
 "nbformat_minor": 2
}
