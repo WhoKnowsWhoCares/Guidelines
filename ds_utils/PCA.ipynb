{
 "cells": [
  {
   "cell_type": "code",
   "execution_count": 101,
   "id": "414e2723",
   "metadata": {
    "ExecuteTime": {
     "end_time": "2021-09-19T18:52:59.892455Z",
     "start_time": "2021-09-19T18:52:40.191509Z"
    }
   },
   "outputs": [
    {
     "name": "stdout",
     "output_type": "stream",
     "text": [
      "(428932, 257)\n"
     ]
    },
    {
     "data": {
      "text/html": [
       "<div>\n",
       "<style scoped>\n",
       "    .dataframe tbody tr th:only-of-type {\n",
       "        vertical-align: middle;\n",
       "    }\n",
       "\n",
       "    .dataframe tbody tr th {\n",
       "        vertical-align: top;\n",
       "    }\n",
       "\n",
       "    .dataframe thead th {\n",
       "        text-align: right;\n",
       "    }\n",
       "</style>\n",
       "<table border=\"1\" class=\"dataframe\">\n",
       "  <thead>\n",
       "    <tr style=\"text-align: right;\">\n",
       "      <th></th>\n",
       "      <th>RV</th>\n",
       "      <th>RV_last_7min</th>\n",
       "      <th>RV_last_3min</th>\n",
       "      <th>TRV</th>\n",
       "      <th>TRV_last_7min</th>\n",
       "      <th>TRV_last_3min</th>\n",
       "      <th>pTRS</th>\n",
       "      <th>pTRS_last_7min</th>\n",
       "      <th>pTRS_last_3min</th>\n",
       "      <th>nTRS</th>\n",
       "      <th>...</th>\n",
       "      <th>size_amax_500</th>\n",
       "      <th>size_std_500</th>\n",
       "      <th>order_count_sum_500</th>\n",
       "      <th>order_count_mean_500</th>\n",
       "      <th>order_count_amax_500</th>\n",
       "      <th>order_count_std_500</th>\n",
       "      <th>ret_trade_sum_500</th>\n",
       "      <th>ret_trade_mean_500</th>\n",
       "      <th>ret_trade_amax_500</th>\n",
       "      <th>ret_trade_std_500</th>\n",
       "    </tr>\n",
       "  </thead>\n",
       "  <tbody>\n",
       "    <tr>\n",
       "      <th>0</th>\n",
       "      <td>0.007263</td>\n",
       "      <td>0.006038</td>\n",
       "      <td>0.004769</td>\n",
       "      <td>0.006818</td>\n",
       "      <td>0.005494</td>\n",
       "      <td>0.004433</td>\n",
       "      <td>0.004749</td>\n",
       "      <td>0.003669</td>\n",
       "      <td>0.003261</td>\n",
       "      <td>0.004892</td>\n",
       "      <td>...</td>\n",
       "      <td>653.0</td>\n",
       "      <td>212.717410</td>\n",
       "      <td>37.0</td>\n",
       "      <td>4.625000</td>\n",
       "      <td>15.0</td>\n",
       "      <td>4.501984</td>\n",
       "      <td>0.001706</td>\n",
       "      <td>0.000213</td>\n",
       "      <td>0.002079</td>\n",
       "      <td>0.001136</td>\n",
       "    </tr>\n",
       "    <tr>\n",
       "      <th>1</th>\n",
       "      <td>0.002919</td>\n",
       "      <td>0.002476</td>\n",
       "      <td>0.001070</td>\n",
       "      <td>0.002919</td>\n",
       "      <td>0.002476</td>\n",
       "      <td>0.001070</td>\n",
       "      <td>0.001894</td>\n",
       "      <td>0.001435</td>\n",
       "      <td>0.000625</td>\n",
       "      <td>0.002221</td>\n",
       "      <td>...</td>\n",
       "      <td>1487.0</td>\n",
       "      <td>365.878154</td>\n",
       "      <td>56.0</td>\n",
       "      <td>3.111111</td>\n",
       "      <td>10.0</td>\n",
       "      <td>2.446820</td>\n",
       "      <td>0.001441</td>\n",
       "      <td>0.000080</td>\n",
       "      <td>0.001064</td>\n",
       "      <td>0.000620</td>\n",
       "    </tr>\n",
       "    <tr>\n",
       "      <th>2</th>\n",
       "      <td>0.003799</td>\n",
       "      <td>0.003324</td>\n",
       "      <td>0.002453</td>\n",
       "      <td>0.003799</td>\n",
       "      <td>0.003324</td>\n",
       "      <td>0.002453</td>\n",
       "      <td>0.002626</td>\n",
       "      <td>0.002381</td>\n",
       "      <td>0.001714</td>\n",
       "      <td>0.002745</td>\n",
       "      <td>...</td>\n",
       "      <td>191.0</td>\n",
       "      <td>86.886626</td>\n",
       "      <td>27.0</td>\n",
       "      <td>3.857143</td>\n",
       "      <td>14.0</td>\n",
       "      <td>4.670067</td>\n",
       "      <td>0.001331</td>\n",
       "      <td>0.000190</td>\n",
       "      <td>0.000755</td>\n",
       "      <td>0.000643</td>\n",
       "    </tr>\n",
       "    <tr>\n",
       "      <th>3</th>\n",
       "      <td>0.003753</td>\n",
       "      <td>0.003105</td>\n",
       "      <td>0.001938</td>\n",
       "      <td>0.003753</td>\n",
       "      <td>0.003105</td>\n",
       "      <td>0.001938</td>\n",
       "      <td>0.002624</td>\n",
       "      <td>0.002108</td>\n",
       "      <td>0.001453</td>\n",
       "      <td>0.002684</td>\n",
       "      <td>...</td>\n",
       "      <td>100.0</td>\n",
       "      <td>38.778860</td>\n",
       "      <td>12.0</td>\n",
       "      <td>2.400000</td>\n",
       "      <td>6.0</td>\n",
       "      <td>2.190890</td>\n",
       "      <td>-0.000235</td>\n",
       "      <td>-0.000047</td>\n",
       "      <td>0.000383</td>\n",
       "      <td>0.000291</td>\n",
       "    </tr>\n",
       "    <tr>\n",
       "      <th>4</th>\n",
       "      <td>0.004365</td>\n",
       "      <td>0.003428</td>\n",
       "      <td>0.002169</td>\n",
       "      <td>0.004365</td>\n",
       "      <td>0.003428</td>\n",
       "      <td>0.002169</td>\n",
       "      <td>0.002883</td>\n",
       "      <td>0.002376</td>\n",
       "      <td>0.001520</td>\n",
       "      <td>0.003278</td>\n",
       "      <td>...</td>\n",
       "      <td>200.0</td>\n",
       "      <td>67.568308</td>\n",
       "      <td>16.0</td>\n",
       "      <td>2.285714</td>\n",
       "      <td>4.0</td>\n",
       "      <td>1.253566</td>\n",
       "      <td>-0.002160</td>\n",
       "      <td>-0.000309</td>\n",
       "      <td>0.000248</td>\n",
       "      <td>0.000476</td>\n",
       "    </tr>\n",
       "  </tbody>\n",
       "</table>\n",
       "<p>5 rows × 257 columns</p>\n",
       "</div>"
      ],
      "text/plain": [
       "         RV  RV_last_7min  RV_last_3min       TRV  TRV_last_7min  \\\n",
       "0  0.007263      0.006038      0.004769  0.006818       0.005494   \n",
       "1  0.002919      0.002476      0.001070  0.002919       0.002476   \n",
       "2  0.003799      0.003324      0.002453  0.003799       0.003324   \n",
       "3  0.003753      0.003105      0.001938  0.003753       0.003105   \n",
       "4  0.004365      0.003428      0.002169  0.004365       0.003428   \n",
       "\n",
       "   TRV_last_3min      pTRS  pTRS_last_7min  pTRS_last_3min      nTRS  ...  \\\n",
       "0       0.004433  0.004749        0.003669        0.003261  0.004892  ...   \n",
       "1       0.001070  0.001894        0.001435        0.000625  0.002221  ...   \n",
       "2       0.002453  0.002626        0.002381        0.001714  0.002745  ...   \n",
       "3       0.001938  0.002624        0.002108        0.001453  0.002684  ...   \n",
       "4       0.002169  0.002883        0.002376        0.001520  0.003278  ...   \n",
       "\n",
       "   size_amax_500  size_std_500  order_count_sum_500  order_count_mean_500  \\\n",
       "0          653.0    212.717410                 37.0              4.625000   \n",
       "1         1487.0    365.878154                 56.0              3.111111   \n",
       "2          191.0     86.886626                 27.0              3.857143   \n",
       "3          100.0     38.778860                 12.0              2.400000   \n",
       "4          200.0     67.568308                 16.0              2.285714   \n",
       "\n",
       "   order_count_amax_500  order_count_std_500  ret_trade_sum_500  \\\n",
       "0                  15.0             4.501984           0.001706   \n",
       "1                  10.0             2.446820           0.001441   \n",
       "2                  14.0             4.670067           0.001331   \n",
       "3                   6.0             2.190890          -0.000235   \n",
       "4                   4.0             1.253566          -0.002160   \n",
       "\n",
       "   ret_trade_mean_500  ret_trade_amax_500  ret_trade_std_500  \n",
       "0            0.000213            0.002079           0.001136  \n",
       "1            0.000080            0.001064           0.000620  \n",
       "2            0.000190            0.000755           0.000643  \n",
       "3           -0.000047            0.000383           0.000291  \n",
       "4           -0.000309            0.000248           0.000476  \n",
       "\n",
       "[5 rows x 257 columns]"
      ]
     },
     "execution_count": 101,
     "metadata": {},
     "output_type": "execute_result"
    }
   ],
   "source": [
    "import pandas as pd\n",
    "data = pd.read_csv('../Kaggle-Optiver_volatility_prediction/abt_v1.csv')\n",
    "target = data['target']\n",
    "df = data.drop(['time_id','stock_id','target'],axis=1)\n",
    "print(df.shape)\n",
    "df.head()"
   ]
  },
  {
   "cell_type": "code",
   "execution_count": 129,
   "id": "cec78e28",
   "metadata": {
    "ExecuteTime": {
     "end_time": "2021-09-19T19:27:56.261039Z",
     "start_time": "2021-09-19T19:27:56.248037Z"
    }
   },
   "outputs": [
    {
     "data": {
      "text/plain": [
       "<PandasArray>\n",
       "[            'RV_last10', 'log_neg_quotes_last10',        'spread1_last10',\n",
       "           'OIB1_last10',            'wap_mean_0',             'wap_std_0',\n",
       "             'wap_dev_0',          'wap12_amin_0',          'wap12_amax_0',\n",
       "            'ret_amin_0',\n",
       " ...\n",
       "         'size_amax_500',          'size_std_500',   'order_count_sum_500',\n",
       "  'order_count_mean_500',  'order_count_amax_500',   'order_count_std_500',\n",
       "     'ret_trade_sum_500',    'ret_trade_mean_500',    'ret_trade_amax_500',\n",
       "     'ret_trade_std_500']\n",
       "Length: 202, dtype: object"
      ]
     },
     "execution_count": 129,
     "metadata": {},
     "output_type": "execute_result"
    }
   ],
   "source": [
    "list_drop = df.columns[df.columns.str.endswith('0')].array\n",
    "list_drop"
   ]
  },
  {
   "cell_type": "code",
   "execution_count": 102,
   "id": "9fa9914d",
   "metadata": {
    "ExecuteTime": {
     "end_time": "2021-09-19T18:53:04.794370Z",
     "start_time": "2021-09-19T18:53:04.779370Z"
    }
   },
   "outputs": [],
   "source": [
    "import numpy as np\n",
    " \n",
    "def PCA(X , num_components):\n",
    "    \n",
    "    #if scewed?\n",
    "#     X = np.log(X+1)\n",
    "    \n",
    "    #Step-1\n",
    "    X_meaned =(X - np.mean(X, axis=0))/np.std(X, axis=0)\n",
    "     \n",
    "    #Step-2\n",
    "    cov_mat = np.cov(X_meaned , rowvar = False)\n",
    "     \n",
    "    #Step-3\n",
    "    eigen_values , eigen_vectors = np.linalg.eigh(cov_mat)\n",
    "     \n",
    "    #Step-4\n",
    "    sorted_index = np.argsort(eigen_values)[::-1]\n",
    "    sorted_eigenvalue = eigen_values[sorted_index]\n",
    "    sorted_eigenvectors = eigen_vectors[:,sorted_index]\n",
    "     \n",
    "    #Step-5\n",
    "    eigenvector_subset = sorted_eigenvectors[:,0:num_components]\n",
    "     \n",
    "    #Step-6\n",
    "    X_reduced = np.dot(eigenvector_subset.transpose() , X_meaned.transpose() ).transpose()\n",
    "     \n",
    "    return X_reduced"
   ]
  },
  {
   "cell_type": "code",
   "execution_count": 103,
   "id": "b3afbeb9",
   "metadata": {
    "ExecuteTime": {
     "end_time": "2021-09-19T18:53:12.664802Z",
     "start_time": "2021-09-19T18:53:10.348120Z"
    }
   },
   "outputs": [
    {
     "name": "stdout",
     "output_type": "stream",
     "text": [
      "(428932, 3)\n"
     ]
    },
    {
     "data": {
      "text/html": [
       "<div>\n",
       "<style scoped>\n",
       "    .dataframe tbody tr th:only-of-type {\n",
       "        vertical-align: middle;\n",
       "    }\n",
       "\n",
       "    .dataframe tbody tr th {\n",
       "        vertical-align: top;\n",
       "    }\n",
       "\n",
       "    .dataframe thead th {\n",
       "        text-align: right;\n",
       "    }\n",
       "</style>\n",
       "<table border=\"1\" class=\"dataframe\">\n",
       "  <thead>\n",
       "    <tr style=\"text-align: right;\">\n",
       "      <th></th>\n",
       "      <th>PC1</th>\n",
       "      <th>PC2</th>\n",
       "      <th>target</th>\n",
       "    </tr>\n",
       "  </thead>\n",
       "  <tbody>\n",
       "    <tr>\n",
       "      <th>0</th>\n",
       "      <td>43.882136</td>\n",
       "      <td>-15.803871</td>\n",
       "      <td>0.006254</td>\n",
       "    </tr>\n",
       "    <tr>\n",
       "      <th>1</th>\n",
       "      <td>38.046749</td>\n",
       "      <td>-10.331838</td>\n",
       "      <td>0.002656</td>\n",
       "    </tr>\n",
       "    <tr>\n",
       "      <th>2</th>\n",
       "      <td>28.422817</td>\n",
       "      <td>-7.767945</td>\n",
       "      <td>0.003712</td>\n",
       "    </tr>\n",
       "    <tr>\n",
       "      <th>3</th>\n",
       "      <td>32.283841</td>\n",
       "      <td>-8.064438</td>\n",
       "      <td>0.005743</td>\n",
       "    </tr>\n",
       "    <tr>\n",
       "      <th>4</th>\n",
       "      <td>25.525047</td>\n",
       "      <td>-6.744007</td>\n",
       "      <td>0.005345</td>\n",
       "    </tr>\n",
       "    <tr>\n",
       "      <th>...</th>\n",
       "      <td>...</td>\n",
       "      <td>...</td>\n",
       "      <td>...</td>\n",
       "    </tr>\n",
       "    <tr>\n",
       "      <th>428927</th>\n",
       "      <td>-3.094049</td>\n",
       "      <td>-0.525773</td>\n",
       "      <td>0.004974</td>\n",
       "    </tr>\n",
       "    <tr>\n",
       "      <th>428928</th>\n",
       "      <td>-3.163888</td>\n",
       "      <td>0.994805</td>\n",
       "      <td>0.003272</td>\n",
       "    </tr>\n",
       "    <tr>\n",
       "      <th>428929</th>\n",
       "      <td>-3.140872</td>\n",
       "      <td>0.206022</td>\n",
       "      <td>0.004154</td>\n",
       "    </tr>\n",
       "    <tr>\n",
       "      <th>428930</th>\n",
       "      <td>-3.067214</td>\n",
       "      <td>-0.964419</td>\n",
       "      <td>0.005483</td>\n",
       "    </tr>\n",
       "    <tr>\n",
       "      <th>428931</th>\n",
       "      <td>-3.123628</td>\n",
       "      <td>0.207459</td>\n",
       "      <td>0.004041</td>\n",
       "    </tr>\n",
       "  </tbody>\n",
       "</table>\n",
       "<p>428932 rows × 3 columns</p>\n",
       "</div>"
      ],
      "text/plain": [
       "              PC1        PC2    target\n",
       "0       43.882136 -15.803871  0.006254\n",
       "1       38.046749 -10.331838  0.002656\n",
       "2       28.422817  -7.767945  0.003712\n",
       "3       32.283841  -8.064438  0.005743\n",
       "4       25.525047  -6.744007  0.005345\n",
       "...           ...        ...       ...\n",
       "428927  -3.094049  -0.525773  0.004974\n",
       "428928  -3.163888   0.994805  0.003272\n",
       "428929  -3.140872   0.206022  0.004154\n",
       "428930  -3.067214  -0.964419  0.005483\n",
       "428931  -3.123628   0.207459  0.004041\n",
       "\n",
       "[428932 rows x 3 columns]"
      ]
     },
     "execution_count": 103,
     "metadata": {},
     "output_type": "execute_result"
    }
   ],
   "source": [
    "#Get the IRIS dataset\n",
    "# url = \"https://archive.ics.uci.edu/ml/machine-learning-databases/iris/iris.data\"\n",
    "# data = pd.read_csv(url, names=['sepal length','sepal width','petal length','petal width','target'])\n",
    " \n",
    "#prepare the data\n",
    "# x = data.iloc[:,0:4]\n",
    " \n",
    "#prepare the target\n",
    "# target = data.iloc[:,4]\n",
    " \n",
    "#Applying it to PCA function\n",
    "mat_reduced = PCA(df , 2)\n",
    " \n",
    "#Creating a Pandas DataFrame of reduced Dataset\n",
    "principal_df = pd.DataFrame(mat_reduced , columns = ['PC1','PC2'])\n",
    "# principal_df = principal_df.apply(np.log)\n",
    " \n",
    "#Concat it with target variable to create a complete Dataset\n",
    "principal_df = pd.concat([principal_df , target] , axis = 1)\n",
    "\n",
    "print(principal_df.shape)\n",
    "principal_df\n"
   ]
  },
  {
   "cell_type": "code",
   "execution_count": 104,
   "id": "6257739f",
   "metadata": {
    "ExecuteTime": {
     "end_time": "2021-09-19T18:53:39.268313Z",
     "start_time": "2021-09-19T18:53:39.233282Z"
    }
   },
   "outputs": [
    {
     "data": {
      "text/html": [
       "<div>\n",
       "<style scoped>\n",
       "    .dataframe tbody tr th:only-of-type {\n",
       "        vertical-align: middle;\n",
       "    }\n",
       "\n",
       "    .dataframe tbody tr th {\n",
       "        vertical-align: top;\n",
       "    }\n",
       "\n",
       "    .dataframe thead th {\n",
       "        text-align: right;\n",
       "    }\n",
       "</style>\n",
       "<table border=\"1\" class=\"dataframe\">\n",
       "  <thead>\n",
       "    <tr style=\"text-align: right;\">\n",
       "      <th></th>\n",
       "      <th>PC1</th>\n",
       "      <th>PC2</th>\n",
       "      <th>target</th>\n",
       "    </tr>\n",
       "  </thead>\n",
       "  <tbody>\n",
       "    <tr>\n",
       "      <th>360241</th>\n",
       "      <td>276.578936</td>\n",
       "      <td>944.607525</td>\n",
       "      <td>0.001918</td>\n",
       "    </tr>\n",
       "  </tbody>\n",
       "</table>\n",
       "</div>"
      ],
      "text/plain": [
       "               PC1         PC2    target\n",
       "360241  276.578936  944.607525  0.001918"
      ]
     },
     "execution_count": 104,
     "metadata": {},
     "output_type": "execute_result"
    }
   ],
   "source": [
    "principal_df[principal_df['PC1']==principal_df['PC1'].max()].head()"
   ]
  },
  {
   "cell_type": "code",
   "execution_count": 33,
   "id": "0b6b08cc",
   "metadata": {
    "ExecuteTime": {
     "end_time": "2021-09-19T15:12:57.067628Z",
     "start_time": "2021-09-19T15:12:57.043628Z"
    }
   },
   "outputs": [
    {
     "data": {
      "text/html": [
       "<div>\n",
       "<style scoped>\n",
       "    .dataframe tbody tr th:only-of-type {\n",
       "        vertical-align: middle;\n",
       "    }\n",
       "\n",
       "    .dataframe tbody tr th {\n",
       "        vertical-align: top;\n",
       "    }\n",
       "\n",
       "    .dataframe thead th {\n",
       "        text-align: right;\n",
       "    }\n",
       "</style>\n",
       "<table border=\"1\" class=\"dataframe\">\n",
       "  <thead>\n",
       "    <tr style=\"text-align: right;\">\n",
       "      <th></th>\n",
       "      <th>PC1</th>\n",
       "      <th>PC2</th>\n",
       "      <th>target</th>\n",
       "    </tr>\n",
       "  </thead>\n",
       "  <tbody>\n",
       "    <tr>\n",
       "      <th>360241</th>\n",
       "      <td>276.578936</td>\n",
       "      <td>944.607525</td>\n",
       "      <td>0.001918</td>\n",
       "    </tr>\n",
       "  </tbody>\n",
       "</table>\n",
       "</div>"
      ],
      "text/plain": [
       "               PC1         PC2    target\n",
       "360241  276.578936  944.607525  0.001918"
      ]
     },
     "execution_count": 33,
     "metadata": {},
     "output_type": "execute_result"
    }
   ],
   "source": [
    "principal_df[principal_df['PC2']==principal_df['PC2'].max()].head()"
   ]
  },
  {
   "cell_type": "code",
   "execution_count": 105,
   "id": "c310079b",
   "metadata": {
    "ExecuteTime": {
     "end_time": "2021-09-19T18:53:44.581441Z",
     "start_time": "2021-09-19T18:53:44.173358Z"
    }
   },
   "outputs": [],
   "source": [
    "principal_df.drop(index=360241,inplace=True)\n",
    "df.drop(index=360241,inplace=True)"
   ]
  },
  {
   "cell_type": "code",
   "execution_count": 106,
   "id": "be2aae6c",
   "metadata": {
    "ExecuteTime": {
     "end_time": "2021-09-19T18:54:02.258665Z",
     "start_time": "2021-09-19T18:53:49.054767Z"
    }
   },
   "outputs": [
    {
     "data": {
      "text/plain": [
       "<AxesSubplot:xlabel='PC1', ylabel='PC2'>"
      ]
     },
     "execution_count": 106,
     "metadata": {},
     "output_type": "execute_result"
    },
    {
     "data": {
      "image/png": "[encoded data removed]",
      "text/plain": [
       "<Figure size 432x432 with 1 Axes>"
      ]
     },
     "metadata": {
      "needs_background": "light"
     },
     "output_type": "display_data"
    }
   ],
   "source": [
    "import seaborn as sb\n",
    "import matplotlib.pyplot as plt\n",
    " \n",
    "plt.figure(figsize = (6,6))\n",
    "sb.scatterplot(data = principal_df , x = 'PC1',y = 'PC2' , hue = 'target' , s = 60 , palette= 'icefire')"
   ]
  },
  {
   "cell_type": "code",
   "execution_count": 107,
   "id": "22a3b516",
   "metadata": {
    "ExecuteTime": {
     "end_time": "2021-09-19T18:54:22.741710Z",
     "start_time": "2021-09-19T18:54:22.431708Z"
    }
   },
   "outputs": [
    {
     "name": "stdout",
     "output_type": "stream",
     "text": [
      "(428931, 258)\n"
     ]
    }
   ],
   "source": [
    "df_w_pc = pd.concat([principal_df['PC1'] , df] , axis = 1)\n",
    "print(df_w_pc.shape)"
   ]
  },
  {
   "cell_type": "code",
   "execution_count": 132,
   "id": "95883169",
   "metadata": {
    "ExecuteTime": {
     "end_time": "2021-09-19T19:29:11.619826Z",
     "start_time": "2021-09-19T19:29:11.076833Z"
    }
   },
   "outputs": [
    {
     "data": {
      "text/html": [
       "<div>\n",
       "<style scoped>\n",
       "    .dataframe tbody tr th:only-of-type {\n",
       "        vertical-align: middle;\n",
       "    }\n",
       "\n",
       "    .dataframe tbody tr th {\n",
       "        vertical-align: top;\n",
       "    }\n",
       "\n",
       "    .dataframe thead th {\n",
       "        text-align: right;\n",
       "    }\n",
       "</style>\n",
       "<table border=\"1\" class=\"dataframe\">\n",
       "  <thead>\n",
       "    <tr style=\"text-align: right;\">\n",
       "      <th></th>\n",
       "      <th>RV</th>\n",
       "      <th>RV_last_7min</th>\n",
       "      <th>RV_last_3min</th>\n",
       "      <th>TRV</th>\n",
       "      <th>TRV_last_7min</th>\n",
       "      <th>TRV_last_3min</th>\n",
       "      <th>pTRS</th>\n",
       "      <th>pTRS_last_7min</th>\n",
       "      <th>pTRS_last_3min</th>\n",
       "      <th>nTRS</th>\n",
       "      <th>...</th>\n",
       "      <th>OIB1</th>\n",
       "      <th>bid_size12</th>\n",
       "      <th>ask_size12</th>\n",
       "      <th>RV_trade</th>\n",
       "      <th>RV_trade_per_sec</th>\n",
       "      <th>logVol</th>\n",
       "      <th>last_ret</th>\n",
       "      <th>duration</th>\n",
       "      <th>acf</th>\n",
       "      <th>lambda</th>\n",
       "    </tr>\n",
       "  </thead>\n",
       "  <tbody>\n",
       "    <tr>\n",
       "      <th>462</th>\n",
       "      <td>0.003303</td>\n",
       "      <td>0.003058</td>\n",
       "      <td>0.002444</td>\n",
       "      <td>0.003303</td>\n",
       "      <td>0.003058</td>\n",
       "      <td>0.002444</td>\n",
       "      <td>0.002380</td>\n",
       "      <td>0.002201</td>\n",
       "      <td>0.001574</td>\n",
       "      <td>0.002290</td>\n",
       "      <td>...</td>\n",
       "      <td>-0.148998</td>\n",
       "      <td>20.469630</td>\n",
       "      <td>14.988778</td>\n",
       "      <td>0.002028</td>\n",
       "      <td>0.001827</td>\n",
       "      <td>7.630461</td>\n",
       "      <td>0.000128</td>\n",
       "      <td>25.608696</td>\n",
       "      <td>0.269569</td>\n",
       "      <td>1.861604e-06</td>\n",
       "    </tr>\n",
       "    <tr>\n",
       "      <th>463</th>\n",
       "      <td>0.003672</td>\n",
       "      <td>0.002946</td>\n",
       "      <td>0.001866</td>\n",
       "      <td>0.003672</td>\n",
       "      <td>0.002946</td>\n",
       "      <td>0.001866</td>\n",
       "      <td>0.002584</td>\n",
       "      <td>0.002031</td>\n",
       "      <td>0.001135</td>\n",
       "      <td>0.002608</td>\n",
       "      <td>...</td>\n",
       "      <td>-0.038047</td>\n",
       "      <td>5.290761</td>\n",
       "      <td>23.808805</td>\n",
       "      <td>0.001768</td>\n",
       "      <td>0.001736</td>\n",
       "      <td>7.336286</td>\n",
       "      <td>0.000579</td>\n",
       "      <td>20.760000</td>\n",
       "      <td>0.249253</td>\n",
       "      <td>1.010716e-06</td>\n",
       "    </tr>\n",
       "    <tr>\n",
       "      <th>464</th>\n",
       "      <td>0.006932</td>\n",
       "      <td>0.005749</td>\n",
       "      <td>0.003958</td>\n",
       "      <td>0.006722</td>\n",
       "      <td>0.005493</td>\n",
       "      <td>0.003958</td>\n",
       "      <td>0.004689</td>\n",
       "      <td>0.003807</td>\n",
       "      <td>0.002624</td>\n",
       "      <td>0.004816</td>\n",
       "      <td>...</td>\n",
       "      <td>0.094810</td>\n",
       "      <td>7.286774</td>\n",
       "      <td>7.409293</td>\n",
       "      <td>0.004961</td>\n",
       "      <td>0.006597</td>\n",
       "      <td>9.248503</td>\n",
       "      <td>-0.000909</td>\n",
       "      <td>9.419354</td>\n",
       "      <td>0.189771</td>\n",
       "      <td>6.249279e-07</td>\n",
       "    </tr>\n",
       "    <tr>\n",
       "      <th>465</th>\n",
       "      <td>0.007551</td>\n",
       "      <td>0.006722</td>\n",
       "      <td>0.004014</td>\n",
       "      <td>0.006755</td>\n",
       "      <td>0.005813</td>\n",
       "      <td>0.004014</td>\n",
       "      <td>0.004726</td>\n",
       "      <td>0.003978</td>\n",
       "      <td>0.002653</td>\n",
       "      <td>0.004826</td>\n",
       "      <td>...</td>\n",
       "      <td>-0.056270</td>\n",
       "      <td>7.011460</td>\n",
       "      <td>16.531248</td>\n",
       "      <td>0.003370</td>\n",
       "      <td>0.001432</td>\n",
       "      <td>8.028781</td>\n",
       "      <td>-0.001094</td>\n",
       "      <td>17.000000</td>\n",
       "      <td>-0.156404</td>\n",
       "      <td>1.244956e-06</td>\n",
       "    </tr>\n",
       "    <tr>\n",
       "      <th>466</th>\n",
       "      <td>0.015584</td>\n",
       "      <td>0.011293</td>\n",
       "      <td>0.006800</td>\n",
       "      <td>0.009245</td>\n",
       "      <td>0.007717</td>\n",
       "      <td>0.005789</td>\n",
       "      <td>0.006417</td>\n",
       "      <td>0.005369</td>\n",
       "      <td>0.004366</td>\n",
       "      <td>0.006656</td>\n",
       "      <td>...</td>\n",
       "      <td>0.193358</td>\n",
       "      <td>12.400418</td>\n",
       "      <td>8.758713</td>\n",
       "      <td>0.008915</td>\n",
       "      <td>0.005641</td>\n",
       "      <td>9.512591</td>\n",
       "      <td>-0.000605</td>\n",
       "      <td>9.015873</td>\n",
       "      <td>0.127031</td>\n",
       "      <td>9.008412e-07</td>\n",
       "    </tr>\n",
       "  </tbody>\n",
       "</table>\n",
       "<p>5 rows × 55 columns</p>\n",
       "</div>"
      ],
      "text/plain": [
       "           RV  RV_last_7min  RV_last_3min       TRV  TRV_last_7min  \\\n",
       "462  0.003303      0.003058      0.002444  0.003303       0.003058   \n",
       "463  0.003672      0.002946      0.001866  0.003672       0.002946   \n",
       "464  0.006932      0.005749      0.003958  0.006722       0.005493   \n",
       "465  0.007551      0.006722      0.004014  0.006755       0.005813   \n",
       "466  0.015584      0.011293      0.006800  0.009245       0.007717   \n",
       "\n",
       "     TRV_last_3min      pTRS  pTRS_last_7min  pTRS_last_3min      nTRS  ...  \\\n",
       "462       0.002444  0.002380        0.002201        0.001574  0.002290  ...   \n",
       "463       0.001866  0.002584        0.002031        0.001135  0.002608  ...   \n",
       "464       0.003958  0.004689        0.003807        0.002624  0.004816  ...   \n",
       "465       0.004014  0.004726        0.003978        0.002653  0.004826  ...   \n",
       "466       0.005789  0.006417        0.005369        0.004366  0.006656  ...   \n",
       "\n",
       "         OIB1  bid_size12  ask_size12  RV_trade  RV_trade_per_sec    logVol  \\\n",
       "462 -0.148998   20.469630   14.988778  0.002028          0.001827  7.630461   \n",
       "463 -0.038047    5.290761   23.808805  0.001768          0.001736  7.336286   \n",
       "464  0.094810    7.286774    7.409293  0.004961          0.006597  9.248503   \n",
       "465 -0.056270    7.011460   16.531248  0.003370          0.001432  8.028781   \n",
       "466  0.193358   12.400418    8.758713  0.008915          0.005641  9.512591   \n",
       "\n",
       "     last_ret   duration       acf        lambda  \n",
       "462  0.000128  25.608696  0.269569  1.861604e-06  \n",
       "463  0.000579  20.760000  0.249253  1.010716e-06  \n",
       "464 -0.000909   9.419354  0.189771  6.249279e-07  \n",
       "465 -0.001094  17.000000 -0.156404  1.244956e-06  \n",
       "466 -0.000605   9.015873  0.127031  9.008412e-07  \n",
       "\n",
       "[5 rows x 55 columns]"
      ]
     },
     "execution_count": 132,
     "metadata": {},
     "output_type": "execute_result"
    }
   ],
   "source": [
    "wtf = df_w_pc[df_w_pc['PC1']<=0]\n",
    "# print(wtf.shape)\n",
    "wtf = wtf.drop(list_drop, axis=1)\n",
    "wtf = wtf.drop('PC1', axis=1)\n",
    "wtf.head()"
   ]
  },
  {
   "cell_type": "code",
   "execution_count": 134,
   "id": "c3705f53",
   "metadata": {
    "ExecuteTime": {
     "end_time": "2021-09-19T19:29:57.843432Z",
     "start_time": "2021-09-19T19:29:46.179437Z"
    }
   },
   "outputs": [
    {
     "name": "stdout",
     "output_type": "stream",
     "text": [
      "(377190, 3)\n"
     ]
    },
    {
     "data": {
      "text/plain": [
       "<AxesSubplot:xlabel='PC1', ylabel='PC2'>"
      ]
     },
     "execution_count": 134,
     "metadata": {},
     "output_type": "execute_result"
    },
    {
     "data": {
      "image/png": "[encoded data removed]",
      "text/plain": [
       "<Figure size 432x432 with 1 Axes>"
      ]
     },
     "metadata": {
      "needs_background": "light"
     },
     "output_type": "display_data"
    }
   ],
   "source": [
    "#Applying it to PCA function\n",
    "mat_reduced = PCA(wtf , 2)\n",
    " \n",
    "#Creating a Pandas DataFrame of reduced Dataset\n",
    "principal_df = pd.DataFrame(mat_reduced , columns = ['PC1','PC2'])\n",
    "# principal_df = principal_df.apply(np.log)\n",
    " \n",
    "#Concat it with target variable to create a complete Dataset\n",
    "principal_df_x1 = principal_df.merge(target, how='inner', left_index=True, right_index=True)\n",
    "print(principal_df_x1.shape)\n",
    "# principal_df_x1.head()\n",
    "\n",
    "plt.figure(figsize = (6,6))\n",
    "sb.scatterplot(data = principal_df_x1 , x = 'PC1',y = 'PC2' , hue = 'target' , s = 60 , palette= 'icefire')"
   ]
  },
  {
   "cell_type": "code",
   "execution_count": 136,
   "id": "08cae397",
   "metadata": {
    "ExecuteTime": {
     "end_time": "2021-09-19T19:30:59.437064Z",
     "start_time": "2021-09-19T19:30:59.291987Z"
    }
   },
   "outputs": [
    {
     "name": "stdout",
     "output_type": "stream",
     "text": [
      "(51741, 258)\n"
     ]
    },
    {
     "data": {
      "text/html": [
       "<div>\n",
       "<style scoped>\n",
       "    .dataframe tbody tr th:only-of-type {\n",
       "        vertical-align: middle;\n",
       "    }\n",
       "\n",
       "    .dataframe tbody tr th {\n",
       "        vertical-align: top;\n",
       "    }\n",
       "\n",
       "    .dataframe thead th {\n",
       "        text-align: right;\n",
       "    }\n",
       "</style>\n",
       "<table border=\"1\" class=\"dataframe\">\n",
       "  <thead>\n",
       "    <tr style=\"text-align: right;\">\n",
       "      <th></th>\n",
       "      <th>RV</th>\n",
       "      <th>RV_last_7min</th>\n",
       "      <th>RV_last_3min</th>\n",
       "      <th>TRV</th>\n",
       "      <th>TRV_last_7min</th>\n",
       "      <th>TRV_last_3min</th>\n",
       "      <th>pTRS</th>\n",
       "      <th>pTRS_last_7min</th>\n",
       "      <th>pTRS_last_3min</th>\n",
       "      <th>nTRS</th>\n",
       "      <th>...</th>\n",
       "      <th>size_amax_500</th>\n",
       "      <th>size_std_500</th>\n",
       "      <th>order_count_sum_500</th>\n",
       "      <th>order_count_mean_500</th>\n",
       "      <th>order_count_amax_500</th>\n",
       "      <th>order_count_std_500</th>\n",
       "      <th>ret_trade_sum_500</th>\n",
       "      <th>ret_trade_mean_500</th>\n",
       "      <th>ret_trade_amax_500</th>\n",
       "      <th>ret_trade_std_500</th>\n",
       "    </tr>\n",
       "  </thead>\n",
       "  <tbody>\n",
       "    <tr>\n",
       "      <th>0</th>\n",
       "      <td>0.007263</td>\n",
       "      <td>0.006038</td>\n",
       "      <td>0.004769</td>\n",
       "      <td>0.006818</td>\n",
       "      <td>0.005494</td>\n",
       "      <td>0.004433</td>\n",
       "      <td>0.004749</td>\n",
       "      <td>0.003669</td>\n",
       "      <td>0.003261</td>\n",
       "      <td>0.004892</td>\n",
       "      <td>...</td>\n",
       "      <td>653.0</td>\n",
       "      <td>212.717410</td>\n",
       "      <td>37.0</td>\n",
       "      <td>4.625000</td>\n",
       "      <td>15.0</td>\n",
       "      <td>4.501984</td>\n",
       "      <td>0.001706</td>\n",
       "      <td>0.000213</td>\n",
       "      <td>0.002079</td>\n",
       "      <td>0.001136</td>\n",
       "    </tr>\n",
       "    <tr>\n",
       "      <th>1</th>\n",
       "      <td>0.002919</td>\n",
       "      <td>0.002476</td>\n",
       "      <td>0.001070</td>\n",
       "      <td>0.002919</td>\n",
       "      <td>0.002476</td>\n",
       "      <td>0.001070</td>\n",
       "      <td>0.001894</td>\n",
       "      <td>0.001435</td>\n",
       "      <td>0.000625</td>\n",
       "      <td>0.002221</td>\n",
       "      <td>...</td>\n",
       "      <td>1487.0</td>\n",
       "      <td>365.878154</td>\n",
       "      <td>56.0</td>\n",
       "      <td>3.111111</td>\n",
       "      <td>10.0</td>\n",
       "      <td>2.446820</td>\n",
       "      <td>0.001441</td>\n",
       "      <td>0.000080</td>\n",
       "      <td>0.001064</td>\n",
       "      <td>0.000620</td>\n",
       "    </tr>\n",
       "    <tr>\n",
       "      <th>2</th>\n",
       "      <td>0.003799</td>\n",
       "      <td>0.003324</td>\n",
       "      <td>0.002453</td>\n",
       "      <td>0.003799</td>\n",
       "      <td>0.003324</td>\n",
       "      <td>0.002453</td>\n",
       "      <td>0.002626</td>\n",
       "      <td>0.002381</td>\n",
       "      <td>0.001714</td>\n",
       "      <td>0.002745</td>\n",
       "      <td>...</td>\n",
       "      <td>191.0</td>\n",
       "      <td>86.886626</td>\n",
       "      <td>27.0</td>\n",
       "      <td>3.857143</td>\n",
       "      <td>14.0</td>\n",
       "      <td>4.670067</td>\n",
       "      <td>0.001331</td>\n",
       "      <td>0.000190</td>\n",
       "      <td>0.000755</td>\n",
       "      <td>0.000643</td>\n",
       "    </tr>\n",
       "    <tr>\n",
       "      <th>3</th>\n",
       "      <td>0.003753</td>\n",
       "      <td>0.003105</td>\n",
       "      <td>0.001938</td>\n",
       "      <td>0.003753</td>\n",
       "      <td>0.003105</td>\n",
       "      <td>0.001938</td>\n",
       "      <td>0.002624</td>\n",
       "      <td>0.002108</td>\n",
       "      <td>0.001453</td>\n",
       "      <td>0.002684</td>\n",
       "      <td>...</td>\n",
       "      <td>100.0</td>\n",
       "      <td>38.778860</td>\n",
       "      <td>12.0</td>\n",
       "      <td>2.400000</td>\n",
       "      <td>6.0</td>\n",
       "      <td>2.190890</td>\n",
       "      <td>-0.000235</td>\n",
       "      <td>-0.000047</td>\n",
       "      <td>0.000383</td>\n",
       "      <td>0.000291</td>\n",
       "    </tr>\n",
       "    <tr>\n",
       "      <th>4</th>\n",
       "      <td>0.004365</td>\n",
       "      <td>0.003428</td>\n",
       "      <td>0.002169</td>\n",
       "      <td>0.004365</td>\n",
       "      <td>0.003428</td>\n",
       "      <td>0.002169</td>\n",
       "      <td>0.002883</td>\n",
       "      <td>0.002376</td>\n",
       "      <td>0.001520</td>\n",
       "      <td>0.003278</td>\n",
       "      <td>...</td>\n",
       "      <td>200.0</td>\n",
       "      <td>67.568308</td>\n",
       "      <td>16.0</td>\n",
       "      <td>2.285714</td>\n",
       "      <td>4.0</td>\n",
       "      <td>1.253566</td>\n",
       "      <td>-0.002160</td>\n",
       "      <td>-0.000309</td>\n",
       "      <td>0.000248</td>\n",
       "      <td>0.000476</td>\n",
       "    </tr>\n",
       "  </tbody>\n",
       "</table>\n",
       "<p>5 rows × 257 columns</p>\n",
       "</div>"
      ],
      "text/plain": [
       "         RV  RV_last_7min  RV_last_3min       TRV  TRV_last_7min  \\\n",
       "0  0.007263      0.006038      0.004769  0.006818       0.005494   \n",
       "1  0.002919      0.002476      0.001070  0.002919       0.002476   \n",
       "2  0.003799      0.003324      0.002453  0.003799       0.003324   \n",
       "3  0.003753      0.003105      0.001938  0.003753       0.003105   \n",
       "4  0.004365      0.003428      0.002169  0.004365       0.003428   \n",
       "\n",
       "   TRV_last_3min      pTRS  pTRS_last_7min  pTRS_last_3min      nTRS  ...  \\\n",
       "0       0.004433  0.004749        0.003669        0.003261  0.004892  ...   \n",
       "1       0.001070  0.001894        0.001435        0.000625  0.002221  ...   \n",
       "2       0.002453  0.002626        0.002381        0.001714  0.002745  ...   \n",
       "3       0.001938  0.002624        0.002108        0.001453  0.002684  ...   \n",
       "4       0.002169  0.002883        0.002376        0.001520  0.003278  ...   \n",
       "\n",
       "   size_amax_500  size_std_500  order_count_sum_500  order_count_mean_500  \\\n",
       "0          653.0    212.717410                 37.0              4.625000   \n",
       "1         1487.0    365.878154                 56.0              3.111111   \n",
       "2          191.0     86.886626                 27.0              3.857143   \n",
       "3          100.0     38.778860                 12.0              2.400000   \n",
       "4          200.0     67.568308                 16.0              2.285714   \n",
       "\n",
       "   order_count_amax_500  order_count_std_500  ret_trade_sum_500  \\\n",
       "0                  15.0             4.501984           0.001706   \n",
       "1                  10.0             2.446820           0.001441   \n",
       "2                  14.0             4.670067           0.001331   \n",
       "3                   6.0             2.190890          -0.000235   \n",
       "4                   4.0             1.253566          -0.002160   \n",
       "\n",
       "   ret_trade_mean_500  ret_trade_amax_500  ret_trade_std_500  \n",
       "0            0.000213            0.002079           0.001136  \n",
       "1            0.000080            0.001064           0.000620  \n",
       "2            0.000190            0.000755           0.000643  \n",
       "3           -0.000047            0.000383           0.000291  \n",
       "4           -0.000309            0.000248           0.000476  \n",
       "\n",
       "[5 rows x 257 columns]"
      ]
     },
     "execution_count": 136,
     "metadata": {},
     "output_type": "execute_result"
    }
   ],
   "source": [
    "wtf2 = df_w_pc[df_w_pc['PC1']>0]\n",
    "print(wtf2.shape)\n",
    "wtf2 = wtf2.drop('PC1', axis=1)\n",
    "wtf2.head()\n",
    "\n",
    "# plt.figure(figsize = (6,6))\n",
    "# sb.scatterplot(data = wtf2 , x = 'PC1',y = 'PC2' , hue = 'target' , s = 60 , palette= 'icefire')"
   ]
  },
  {
   "cell_type": "code",
   "execution_count": 137,
   "id": "28dee4b3",
   "metadata": {
    "ExecuteTime": {
     "end_time": "2021-09-19T19:31:44.962359Z",
     "start_time": "2021-09-19T19:31:42.541364Z"
    }
   },
   "outputs": [
    {
     "name": "stdout",
     "output_type": "stream",
     "text": [
      "(51741, 3)\n"
     ]
    },
    {
     "data": {
      "text/plain": [
       "<AxesSubplot:xlabel='PC1', ylabel='PC2'>"
      ]
     },
     "execution_count": 137,
     "metadata": {},
     "output_type": "execute_result"
    },
    {
     "data": {
      "image/png": "[encoded data removed]",
      "text/plain": [
       "<Figure size 432x432 with 1 Axes>"
      ]
     },
     "metadata": {
      "needs_background": "light"
     },
     "output_type": "display_data"
    }
   ],
   "source": [
    "#Applying it to PCA function\n",
    "mat_reduced = PCA(wtf2 , 2)\n",
    " \n",
    "#Creating a Pandas DataFrame of reduced Dataset\n",
    "principal_df = pd.DataFrame(mat_reduced , columns = ['PC1','PC2'])\n",
    "# principal_df = principal_df.apply(np.log)\n",
    " \n",
    "#Concat it with target variable to create a complete Dataset\n",
    "principal_df_x2 = principal_df.merge(target, how='inner', left_index=True, right_index=True)\n",
    "print(principal_df_x2.shape)\n",
    "# principal_df_x1.head()\n",
    "\n",
    "plt.figure(figsize = (6,6))\n",
    "sb.scatterplot(data = principal_df_x2 , x = 'PC1',y = 'PC2' , hue = 'target' , s = 60 , palette= 'icefire')"
   ]
  }
 ],
 "metadata": {
  "kernelspec": {
   "display_name": "Python 3",
   "language": "python",
   "name": "python3"
  },
  "language_info": {
   "codemirror_mode": {
    "name": "ipython",
    "version": 3
   },
   "file_extension": ".py",
   "mimetype": "text/x-python",
   "name": "python",
   "nbconvert_exporter": "python",
   "pygments_lexer": "ipython3",
   "version": "3.9.4"
  },
  "toc": {
   "base_numbering": 1,
   "nav_menu": {},
   "number_sections": true,
   "sideBar": true,
   "skip_h1_title": false,
   "title_cell": "Table of Contents",
   "title_sidebar": "Contents",
   "toc_cell": false,
   "toc_position": {},
   "toc_section_display": true,
   "toc_window_display": false
  },
  "varInspector": {
   "cols": {
    "lenName": 16,
    "lenType": 16,
    "lenVar": 40
   },
   "kernels_config": {
    "python": {
     "delete_cmd_postfix": "",
     "delete_cmd_prefix": "del ",
     "library": "var_list.py",
     "varRefreshCmd": "print(var_dic_list())"
    },
    "r": {
     "delete_cmd_postfix": ") ",
     "delete_cmd_prefix": "rm(",
     "library": "var_list.r",
     "varRefreshCmd": "cat(var_dic_list()) "
    }
   },
   "types_to_exclude": [
    "module",
    "function",
    "builtin_function_or_method",
    "instance",
    "_Feature"
   ],
   "window_display": false
  }
 },
 "nbformat": 4,
 "nbformat_minor": 5
}
